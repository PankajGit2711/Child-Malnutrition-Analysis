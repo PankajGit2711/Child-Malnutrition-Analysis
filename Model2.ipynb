{
 "cells": [
  {
   "cell_type": "code",
   "execution_count": 1,
   "metadata": {},
   "outputs": [],
   "source": [
    "import numpy as np\n",
    "import pandas as pd"
   ]
  },
  {
   "cell_type": "code",
   "execution_count": 2,
   "metadata": {},
   "outputs": [
    {
     "data": {
      "text/html": [
       "<div>\n",
       "<style scoped>\n",
       "    .dataframe tbody tr th:only-of-type {\n",
       "        vertical-align: middle;\n",
       "    }\n",
       "\n",
       "    .dataframe tbody tr th {\n",
       "        vertical-align: top;\n",
       "    }\n",
       "\n",
       "    .dataframe thead th {\n",
       "        text-align: right;\n",
       "    }\n",
       "</style>\n",
       "<table border=\"1\" class=\"dataframe\">\n",
       "  <thead>\n",
       "    <tr style=\"text-align: right;\">\n",
       "      <th></th>\n",
       "      <th>Sex</th>\n",
       "      <th>Age</th>\n",
       "      <th>Height</th>\n",
       "      <th>Weight</th>\n",
       "      <th>Low Income</th>\n",
       "      <th>Lower Middle Income</th>\n",
       "      <th>Upper Middle Income</th>\n",
       "      <th>Status</th>\n",
       "    </tr>\n",
       "  </thead>\n",
       "  <tbody>\n",
       "    <tr>\n",
       "      <th>0</th>\n",
       "      <td>1</td>\n",
       "      <td>5</td>\n",
       "      <td>75</td>\n",
       "      <td>17</td>\n",
       "      <td>1</td>\n",
       "      <td>0</td>\n",
       "      <td>0</td>\n",
       "      <td>Stunting</td>\n",
       "    </tr>\n",
       "    <tr>\n",
       "      <th>1</th>\n",
       "      <td>0</td>\n",
       "      <td>4</td>\n",
       "      <td>101</td>\n",
       "      <td>13</td>\n",
       "      <td>1</td>\n",
       "      <td>0</td>\n",
       "      <td>0</td>\n",
       "      <td>Stunting</td>\n",
       "    </tr>\n",
       "    <tr>\n",
       "      <th>2</th>\n",
       "      <td>0</td>\n",
       "      <td>4</td>\n",
       "      <td>71</td>\n",
       "      <td>17</td>\n",
       "      <td>1</td>\n",
       "      <td>0</td>\n",
       "      <td>0</td>\n",
       "      <td>Stunting</td>\n",
       "    </tr>\n",
       "    <tr>\n",
       "      <th>3</th>\n",
       "      <td>0</td>\n",
       "      <td>3</td>\n",
       "      <td>81</td>\n",
       "      <td>13</td>\n",
       "      <td>0</td>\n",
       "      <td>0</td>\n",
       "      <td>1</td>\n",
       "      <td>Stunting</td>\n",
       "    </tr>\n",
       "    <tr>\n",
       "      <th>4</th>\n",
       "      <td>0</td>\n",
       "      <td>1</td>\n",
       "      <td>79</td>\n",
       "      <td>16</td>\n",
       "      <td>0</td>\n",
       "      <td>0</td>\n",
       "      <td>1</td>\n",
       "      <td>Stunting</td>\n",
       "    </tr>\n",
       "  </tbody>\n",
       "</table>\n",
       "</div>"
      ],
      "text/plain": [
       "   Sex  Age  Height  Weight  Low Income  Lower Middle Income  \\\n",
       "0    1    5      75      17           1                    0   \n",
       "1    0    4     101      13           1                    0   \n",
       "2    0    4      71      17           1                    0   \n",
       "3    0    3      81      13           0                    0   \n",
       "4    0    1      79      16           0                    0   \n",
       "\n",
       "   Upper Middle Income    Status  \n",
       "0                    0  Stunting  \n",
       "1                    0  Stunting  \n",
       "2                    0  Stunting  \n",
       "3                    1  Stunting  \n",
       "4                    1  Stunting  "
      ]
     },
     "execution_count": 2,
     "metadata": {},
     "output_type": "execute_result"
    }
   ],
   "source": [
    "data = pd.read_csv('Preprocessed_Data.csv')\n",
    "predictors = data.iloc[:, :7]\n",
    "target = data.iloc[:, 7]\n",
    "data.head()"
   ]
  },
  {
   "cell_type": "code",
   "execution_count": 3,
   "metadata": {},
   "outputs": [
    {
     "name": "stdout",
     "output_type": "stream",
     "text": [
      "   Sex  Age  Height  Weight  Low Income  Lower Middle Income  \\\n",
      "0    1    5      75      17           1                    0   \n",
      "1    0    4     101      13           1                    0   \n",
      "2    0    4      71      17           1                    0   \n",
      "3    0    3      81      13           0                    0   \n",
      "4    0    1      79      16           0                    0   \n",
      "\n",
      "   Upper Middle Income  \n",
      "0                    0  \n",
      "1                    0  \n",
      "2                    0  \n",
      "3                    1  \n",
      "4                    1  \n",
      "0    Stunting\n",
      "1    Stunting\n",
      "2    Stunting\n",
      "3    Stunting\n",
      "4    Stunting\n",
      "Name: Status, dtype: object\n"
     ]
    }
   ],
   "source": [
    "print(predictors.head())\n",
    "print(target.head())"
   ]
  },
  {
   "cell_type": "code",
   "execution_count": 4,
   "metadata": {},
   "outputs": [],
   "source": [
    "from sklearn.model_selection import train_test_split\n",
    "xtrain, xtest, ytrain, ytest = train_test_split(predictors, target, test_size = 0.2)"
   ]
  },
  {
   "cell_type": "code",
   "execution_count": 5,
   "metadata": {},
   "outputs": [
    {
     "data": {
      "text/plain": [
       "RandomForestClassifier(bootstrap=True, class_weight=None, criterion='gini',\n",
       "            max_depth=None, max_features='auto', max_leaf_nodes=None,\n",
       "            min_impurity_decrease=0.0, min_impurity_split=None,\n",
       "            min_samples_leaf=1, min_samples_split=2,\n",
       "            min_weight_fraction_leaf=0.0, n_estimators=300, n_jobs=None,\n",
       "            oob_score=False, random_state=None, verbose=0,\n",
       "            warm_start=False)"
      ]
     },
     "execution_count": 5,
     "metadata": {},
     "output_type": "execute_result"
    }
   ],
   "source": [
    "from sklearn.ensemble import RandomForestClassifier\n",
    "model = RandomForestClassifier(n_estimators = 300)\n",
    "model.fit(xtrain, ytrain)"
   ]
  },
  {
   "cell_type": "code",
   "execution_count": 6,
   "metadata": {},
   "outputs": [],
   "source": [
    "predict = model.predict(xtest)"
   ]
  },
  {
   "cell_type": "code",
   "execution_count": 7,
   "metadata": {},
   "outputs": [
    {
     "data": {
      "text/plain": [
       "array(['Stunting', 'Stunting', 'Stunting', 'Stunting', 'Stunting',\n",
       "       'Stunting', 'Stunting', 'Stunting', 'Stunting', 'Stunting',\n",
       "       'Stunting', 'Stunting', 'Stunting', 'Stunting', 'Stunting',\n",
       "       'Stunting', 'Stunting', 'Stunting', 'Stunting', 'Stunting',\n",
       "       'Stunting', 'Stunting', 'Stunting', 'Stunting', 'Stunting',\n",
       "       'Overweight', 'Stunting', 'Stunting', 'Stunting', 'Stunting',\n",
       "       'Stunting', 'Stunting', 'Stunting', 'Stunting', 'Stunting',\n",
       "       'Stunting', 'Stunting', 'Stunting', 'Stunting', 'Stunting',\n",
       "       'Stunting', 'Overweight', 'Stunting', 'Stunting', 'Stunting',\n",
       "       'Stunting', 'Stunting', 'Stunting', 'Stunting', 'Stunting',\n",
       "       'Stunting', 'Stunting', 'Stunting', 'Stunting', 'Stunting',\n",
       "       'Overweight', 'Stunting', 'Stunting', 'Stunting', 'Stunting',\n",
       "       'Stunting', 'Stunting', 'Stunting', 'Stunting', 'Stunting',\n",
       "       'Overweight', 'Stunting', 'Stunting', 'Stunting', 'Stunting',\n",
       "       'Stunting', 'Stunting', 'Stunting', 'Stunting', 'Stunting',\n",
       "       'Stunting', 'Stunting', 'Stunting', 'Stunting', 'Stunting',\n",
       "       'Stunting', 'Stunting', 'Stunting', 'Overweight', 'Stunting',\n",
       "       'Stunting', 'Stunting', 'Stunting', 'Stunting', 'Stunting',\n",
       "       'Overweight', 'Stunting', 'Stunting', 'Stunting', 'Stunting',\n",
       "       'Stunting', 'Stunting', 'Stunting', 'Stunting', 'Stunting',\n",
       "       'Stunting', 'Overweight', 'Stunting', 'Stunting', 'Stunting',\n",
       "       'Stunting', 'Stunting', 'Stunting', 'Stunting', 'Stunting',\n",
       "       'Stunting', 'Stunting', 'Stunting', 'Overweight', 'Stunting',\n",
       "       'Stunting', 'Stunting', 'Stunting', 'Stunting', 'Stunting',\n",
       "       'Stunting', 'Stunting', 'Stunting', 'Stunting', 'Stunting',\n",
       "       'Stunting', 'Stunting', 'Stunting', 'Stunting', 'Stunting',\n",
       "       'Stunting', 'Overweight', 'Stunting', 'Stunting', 'Stunting',\n",
       "       'Stunting', 'Stunting', 'Overweight', 'Stunting', 'Stunting',\n",
       "       'Stunting', 'Stunting', 'Stunting', 'Stunting', 'Stunting',\n",
       "       'Stunting', 'Stunting', 'Stunting', 'Stunting', 'Stunting',\n",
       "       'Stunting', 'Stunting', 'Stunting', 'Stunting', 'Stunting',\n",
       "       'Stunting', 'Stunting', 'Stunting', 'Stunting', 'Stunting',\n",
       "       'Stunting', 'Stunting', 'Overweight', 'Stunting', 'Stunting',\n",
       "       'Stunting', 'Stunting', 'Stunting'], dtype=object)"
      ]
     },
     "execution_count": 7,
     "metadata": {},
     "output_type": "execute_result"
    }
   ],
   "source": [
    "predict"
   ]
  },
  {
   "cell_type": "code",
   "execution_count": 17,
   "metadata": {},
   "outputs": [
    {
     "name": "stdout",
     "output_type": "stream",
     "text": [
      "[[  4  12   0   0]\n",
      " [  6 140   0   0]\n",
      " [  1   4   0   0]\n",
      " [  0   1   0   0]]\n",
      "              precision    recall  f1-score   support\n",
      "\n",
      "  Overweight       0.36      0.25      0.30        16\n",
      "    Stunting       0.89      0.96      0.92       146\n",
      " Underweight       0.00      0.00      0.00         5\n",
      "     Wasting       0.00      0.00      0.00         1\n",
      "\n",
      "   micro avg       0.86      0.86      0.86       168\n",
      "   macro avg       0.31      0.30      0.31       168\n",
      "weighted avg       0.81      0.86      0.83       168\n",
      "\n",
      "Accuracy Of Our Model Is:- 85.71428571428571 %\n"
     ]
    }
   ],
   "source": [
    "from sklearn.metrics import confusion_matrix, classification_report, accuracy_score\n",
    "print(confusion_matrix(ytest, predict))\n",
    "print(classification_report(ytest, predict))\n",
    "print(\"Accuracy Of Our Model Is:-\",accuracy_score(ytest, predict)*100, \"%\")"
   ]
  }
 ],
 "metadata": {
  "kernelspec": {
   "display_name": "Python 3",
   "language": "python",
   "name": "python3"
  },
  "language_info": {
   "codemirror_mode": {
    "name": "ipython",
    "version": 3
   },
   "file_extension": ".py",
   "mimetype": "text/x-python",
   "name": "python",
   "nbconvert_exporter": "python",
   "pygments_lexer": "ipython3",
   "version": "3.7.1"
  }
 },
 "nbformat": 4,
 "nbformat_minor": 2
}
